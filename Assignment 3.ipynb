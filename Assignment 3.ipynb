{
 "cells": [
  {
   "cell_type": "markdown",
   "metadata": {},
   "source": [
    "#  Assignment 3"
   ]
  },
  {
   "cell_type": "markdown",
   "metadata": {},
   "source": [
    "## #1"
   ]
  },
  {
   "cell_type": "markdown",
   "metadata": {},
   "source": [
    "### Write a function to compute 5/0 and use try/except to catch the exceptions."
   ]
  },
  {
   "cell_type": "code",
   "execution_count": 35,
   "metadata": {},
   "outputs": [
    {
     "name": "stdout",
     "output_type": "stream",
     "text": [
      "integer division or modulo by zero\n",
      "10\n"
     ]
    }
   ],
   "source": [
    "a=5\n",
    "b=0\n",
    "try:\n",
    "    c=a//b\n",
    "\n",
    "except ZeroDivisionError as e:\n",
    "    b=10\n",
    "    print(e)\n",
    "    print(b)"
   ]
  },
  {
   "cell_type": "markdown",
   "metadata": {},
   "source": [
    "## #2"
   ]
  },
  {
   "cell_type": "markdown",
   "metadata": {},
   "source": [
    "### Implement a Python program to generate all sentences where subject is in [\"Americans\",\"Indians\"] and verb is in [\"Play\", \"watch\"] and the object is in [\"Baseball\",\"cricket\"].\n",
    "\n",
    "### Hint: Subject,Verb and Object should be declared in the program as shown below.\n",
    "\n",
    "### subjects=[\"Americans \",\"Indians\"]verbs=[\"play\",\"watch\"]\n",
    "### objects=[\"Baseball\",\"Cricket\"]\n",
    "\n",
    "### Output should come as below:\n",
    "\n",
    "### Americans  play Baseball.\n",
    "### Americans  play Cricket.\n",
    "### Americans  watch Baseball.Americans  watch Cricket.\n",
    "### Indians play Baseball.\n",
    "### Indians play Cricket.\n",
    "### Indians watch Baseball.\n",
    "### Indians watch Cricket. "
   ]
  },
  {
   "cell_type": "code",
   "execution_count": 28,
   "metadata": {},
   "outputs": [
    {
     "name": "stdout",
     "output_type": "stream",
     "text": [
      "Americans  play Baseball\n",
      "Americans  play Cricket\n",
      "Americans  watch Baseball\n",
      "Americans  watch Cricket\n",
      "Indians play Baseball\n",
      "Indians play Cricket\n",
      "Indians watch Baseball\n",
      "Indians watch Cricket\n"
     ]
    }
   ],
   "source": [
    "subjects=[\"Americans \",\"Indians\"]\n",
    "verbs=[\"play\",\"watch\"]\n",
    "objects=[\"Baseball\",\"Cricket\"] \n",
    "\n",
    "for i in subjects:\n",
    "    for j in verbs:\n",
    "        for k in objects:\n",
    "            print(i,j,k)"
   ]
  },
  {
   "cell_type": "markdown",
   "metadata": {},
   "source": [
    "## Task 2"
   ]
  },
  {
   "cell_type": "markdown",
   "metadata": {},
   "source": [
    "### #1"
   ]
  },
  {
   "cell_type": "markdown",
   "metadata": {},
   "source": [
    "\n",
    " \n",
    "Write a function so that the columns of the output matrix are powers of the input vector.  \n",
    "The order of the powers is determined by the increasing boolean argument. Specifically, when             \n",
    "increasing is False, the i-th output column is the input vector raised element-wise to the power               \n",
    "of N - i - 1.  \n",
    " \n",
    "HINT: Such a matrix with a geometric progression in each row is named for Alexandre-              \n",
    "Theophile Vandermonde. \n",
    "\n",
    "\n",
    "NOTE:​  ​ The​  ​ solution​  ​ shared​  ​ through​  ​ Github​  ​ should​  ​ contain​  ​ the​  ​ source code​  ​ used​  ​ and​  ​ the​\n",
    "​ screenshot​  ​ of​  ​ the​  ​ output.\n"
   ]
  },
  {
   "cell_type": "code",
   "execution_count": 3,
   "metadata": {},
   "outputs": [
    {
     "name": "stdout",
     "output_type": "stream",
     "text": [
      "[1, 1, 1, 1, 1]\n",
      "[16, 8, 4, 2, 1]\n",
      "[81, 27, 9, 3, 1]\n",
      "[256, 64, 16, 4, 1]\n"
     ]
    }
   ],
   "source": [
    "x=[1,2,3,4]\n",
    "num=4\n",
    "def my_vander():\n",
    "    for d in x:\n",
    "        c=[d**number for number in range(0,num+1)]\n",
    "        print(c[::-1])\n",
    "my_vander()\n",
    "\n"
   ]
  },
  {
   "cell_type": "code",
   "execution_count": null,
   "metadata": {},
   "outputs": [],
   "source": []
  }
 ],
 "metadata": {
  "kernelspec": {
   "display_name": "Python 3",
   "language": "python",
   "name": "python3"
  },
  "language_info": {
   "codemirror_mode": {
    "name": "ipython",
    "version": 3
   },
   "file_extension": ".py",
   "mimetype": "text/x-python",
   "name": "python",
   "nbconvert_exporter": "python",
   "pygments_lexer": "ipython3",
   "version": "3.7.3"
  }
 },
 "nbformat": 4,
 "nbformat_minor": 2
}
