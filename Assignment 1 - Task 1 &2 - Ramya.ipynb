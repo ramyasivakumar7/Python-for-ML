{
 "cells": [
  {
   "cell_type": "markdown",
   "metadata": {},
   "source": [
    "#  #1"
   ]
  },
  {
   "cell_type": "code",
   "execution_count": 1,
   "metadata": {},
   "outputs": [
    {
     "name": "stdout",
     "output_type": "stream",
     "text": [
      "Welcome to Python Programming\n"
     ]
    }
   ],
   "source": [
    "a=\"Welcome to Python Programming\"\n",
    "print(a)"
   ]
  },
  {
   "cell_type": "markdown",
   "metadata": {},
   "source": [
    "#  #2"
   ]
  },
  {
   "cell_type": "code",
   "execution_count": 23,
   "metadata": {},
   "outputs": [
    {
     "name": "stdout",
     "output_type": "stream",
     "text": [
      "2002\n",
      "2009\n",
      "2016\n",
      "2023\n",
      "2030\n",
      "2037\n",
      "2044\n",
      "2051\n",
      "2058\n",
      "2065\n",
      "2072\n",
      "2079\n",
      "2086\n",
      "2093\n",
      "2100\n",
      "2107\n",
      "2114\n",
      "2121\n",
      "2128\n",
      "2135\n",
      "2142\n",
      "2149\n",
      "2156\n",
      "2163\n",
      "2170\n",
      "2177\n",
      "2184\n",
      "2191\n",
      "2198\n",
      "2205\n",
      "2212\n",
      "2219\n",
      "2226\n",
      "2233\n",
      "2240\n",
      "2247\n",
      "2254\n",
      "2261\n",
      "2268\n",
      "2275\n",
      "2282\n",
      "2289\n",
      "2296\n",
      "2303\n",
      "2310\n",
      "2317\n",
      "2324\n",
      "2331\n",
      "2338\n",
      "2345\n",
      "2352\n",
      "2359\n",
      "2366\n",
      "2373\n",
      "2380\n",
      "2387\n",
      "2394\n",
      "2401\n",
      "2408\n",
      "2415\n",
      "2422\n",
      "2429\n",
      "2436\n",
      "2443\n",
      "2450\n",
      "2457\n",
      "2464\n",
      "2471\n",
      "2478\n",
      "2485\n",
      "2492\n",
      "2499\n",
      "2506\n",
      "2513\n",
      "2520\n",
      "2527\n",
      "2534\n",
      "2541\n",
      "2548\n",
      "2555\n",
      "2562\n",
      "2569\n",
      "2576\n",
      "2583\n",
      "2590\n",
      "2597\n",
      "2604\n",
      "2611\n",
      "2618\n",
      "2625\n",
      "2632\n",
      "2639\n",
      "2646\n",
      "2653\n",
      "2660\n",
      "2667\n",
      "2674\n",
      "2681\n",
      "2688\n",
      "2695\n",
      "2702\n",
      "2709\n",
      "2716\n",
      "2723\n",
      "2730\n",
      "2737\n",
      "2744\n",
      "2751\n",
      "2758\n",
      "2765\n",
      "2772\n",
      "2779\n",
      "2786\n",
      "2793\n",
      "2800\n",
      "2807\n",
      "2814\n",
      "2821\n",
      "2828\n",
      "2835\n",
      "2842\n",
      "2849\n",
      "2856\n",
      "2863\n",
      "2870\n",
      "2877\n",
      "2884\n",
      "2891\n",
      "2898\n",
      "2905\n",
      "2912\n",
      "2919\n",
      "2926\n",
      "2933\n",
      "2940\n",
      "2947\n",
      "2954\n",
      "2961\n",
      "2968\n",
      "2975\n",
      "2982\n",
      "2989\n",
      "2996\n",
      "3003\n",
      "3010\n",
      "3017\n",
      "3024\n",
      "3031\n",
      "3038\n",
      "3045\n",
      "3052\n",
      "3059\n",
      "3066\n",
      "3073\n",
      "3080\n",
      "3087\n",
      "3094\n",
      "3101\n",
      "3108\n",
      "3115\n",
      "3122\n",
      "3129\n",
      "3136\n",
      "3143\n",
      "3150\n",
      "3157\n",
      "3164\n",
      "3171\n",
      "3178\n",
      "3185\n",
      "3192\n",
      "3199\n"
     ]
    }
   ],
   "source": [
    "for i in range(2000,3201):\n",
    "    if i%7==0:\n",
    "        if i/5!=0:\n",
    "            print(i)"
   ]
  },
  {
   "cell_type": "markdown",
   "metadata": {},
   "source": [
    "#  #3"
   ]
  },
  {
   "cell_type": "code",
   "execution_count": 9,
   "metadata": {},
   "outputs": [
    {
     "name": "stdout",
     "output_type": "stream",
     "text": [
      "Enter your First name and Last Name Ramya Sivakumar\n",
      "ramukaviS aymaR\n"
     ]
    }
   ],
   "source": [
    "a=input(\"Enter your First name and Last Name \")\n",
    "b=a[:: -1]     #------> To print reverse we use -1\n",
    "print(b)"
   ]
  },
  {
   "cell_type": "markdown",
   "metadata": {},
   "source": [
    "## #4"
   ]
  },
  {
   "cell_type": "code",
   "execution_count": 17,
   "metadata": {},
   "outputs": [
    {
     "name": "stdout",
     "output_type": "stream",
     "text": [
      "The volume of the sphere is 10851.839999999998\n"
     ]
    }
   ],
   "source": [
    "D=12\n",
    "r=6\n",
    "V=4/3 *3.14*12 *6**3\n",
    "print(\"The volume of the sphere is\",V)"
   ]
  },
  {
   "cell_type": "code",
   "execution_count": null,
   "metadata": {},
   "outputs": [],
   "source": []
  },
  {
   "cell_type": "markdown",
   "metadata": {},
   "source": [
    "# Task 2 \n",
    "\n",
    "## #1"
   ]
  },
  {
   "cell_type": "code",
   "execution_count": 11,
   "metadata": {},
   "outputs": [
    {
     "data": {
      "text/plain": [
       "[1, 2, 3, 4, 5]"
      ]
     },
     "execution_count": 11,
     "metadata": {},
     "output_type": "execute_result"
    }
   ],
   "source": [
    "a=1,2,3,4,5\n",
    "list(a)"
   ]
  },
  {
   "cell_type": "markdown",
   "metadata": {},
   "source": [
    "## #2"
   ]
  },
  {
   "cell_type": "code",
   "execution_count": 66,
   "metadata": {},
   "outputs": [
    {
     "name": "stdout",
     "output_type": "stream",
     "text": [
      "Enter the number of rows and columns  5\n",
      "* \n",
      "* * \n",
      "* * * \n",
      "* * * * \n",
      "* * * * * \n",
      "* * * * \n",
      "* * * \n",
      "* * \n",
      "* \n"
     ]
    }
   ],
   "source": [
    "a=int(input(\"Enter the number of rows and columns  \"))\n",
    "for i in range(1,a+1):\n",
    "    print(\"*\" \" \" *i)\n",
    "for i in range(a-1,0,-1):         # to print the lower half of the pattern\n",
    "    print(\"*\" \" \" *i)"
   ]
  },
  {
   "cell_type": "markdown",
   "metadata": {},
   "source": [
    "## #3"
   ]
  },
  {
   "cell_type": "code",
   "execution_count": 70,
   "metadata": {},
   "outputs": [
    {
     "name": "stdout",
     "output_type": "stream",
     "text": [
      "Enter the word  AcadGild\n",
      "dliGdacA\n"
     ]
    }
   ],
   "source": [
    "a1=input(\"Enter the word  \")\n",
    "print(a1[::-1])"
   ]
  },
  {
   "cell_type": "markdown",
   "metadata": {},
   "source": [
    "## #4"
   ]
  },
  {
   "cell_type": "code",
   "execution_count": 11,
   "metadata": {},
   "outputs": [
    {
     "name": "stdout",
     "output_type": "stream",
     "text": [
      "WE, THE PEOPLE OF INDIA,\n",
      "     having solemnly resolved to constitute India into a SOVEREIGN,! \n",
      "       SOCIALIST, SECULAR, DEMOCRATIC REPUBLIC \n",
      "       and to secure to all its citizens\n"
     ]
    }
   ],
   "source": [
    "str1= \"WE, THE PEOPLE OF INDIA,\\n     having solemnly resolved to constitute India into a SOVEREIGN,! \\n       SOCIALIST, SECULAR, DEMOCRATIC REPUBLIC \\n       and to secure to all its citizens\"\n",
    "print(str1)"
   ]
  },
  {
   "cell_type": "code",
   "execution_count": null,
   "metadata": {},
   "outputs": [],
   "source": []
  }
 ],
 "metadata": {
  "kernelspec": {
   "display_name": "Python 3",
   "language": "python",
   "name": "python3"
  },
  "language_info": {
   "codemirror_mode": {
    "name": "ipython",
    "version": 3
   },
   "file_extension": ".py",
   "mimetype": "text/x-python",
   "name": "python",
   "nbconvert_exporter": "python",
   "pygments_lexer": "ipython3",
   "version": "3.7.3"
  }
 },
 "nbformat": 4,
 "nbformat_minor": 2
}
